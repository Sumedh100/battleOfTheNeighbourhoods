{
 "cells": [
  {
   "cell_type": "markdown",
   "metadata": {},
   "source": [
    "## Imports"
   ]
  },
  {
   "cell_type": "code",
   "execution_count": 22,
   "metadata": {},
   "outputs": [],
   "source": [
    "import pandas as pd\n",
    "import numpy as np\n",
    "import json\n",
    "\n",
    "from geopy.geocoders import Nominatim # to conver address to lat and long values\n",
    "\n",
    "import requests # handle requests\n",
    "from bs4 import BeautifulSoup\n",
    "from pandas.io.json import json_normalize # JSON to pandas dataframe\n",
    "\n",
    "import matplotlib.pyplot as plt\n",
    "\n",
    "from sklearn.cluster import KMeans\n",
    "\n",
    "import folium # for maps"
   ]
  },
  {
   "cell_type": "markdown",
   "metadata": {},
   "source": [
    "# PART 1"
   ]
  },
  {
   "cell_type": "markdown",
   "metadata": {},
   "source": [
    "## Scraping data from Wikipedia"
   ]
  },
  {
   "cell_type": "code",
   "execution_count": 23,
   "metadata": {},
   "outputs": [],
   "source": [
    "data = requests.get('https://en.wikipedia.org/wiki/List_of_postal_codes_of_Canada:_M').text"
   ]
  },
  {
   "cell_type": "code",
   "execution_count": 24,
   "metadata": {},
   "outputs": [],
   "source": [
    "soup = BeautifulSoup(data, 'html.parser') # BeautifulSoup object to parse data\n",
    "postalCodes = []\n",
    "boroughs = []\n",
    "neighborhoods = []"
   ]
  },
  {
   "cell_type": "code",
   "execution_count": 25,
   "metadata": {},
   "outputs": [],
   "source": [
    "for row in soup.find('table').find_all('tr'):\n",
    "    cells = row.find_all('td')\n",
    "    if(len(cells) > 0): # condition because some rows may be empty && first row is header\n",
    "        postalCodes.append(cells[0].text.rstrip('\\n'))\n",
    "        boroughs.append(cells[1].text.rstrip('\\n'))\n",
    "        neighborhoods.append(cells[2].text.rstrip('\\n'))"
   ]
  },
  {
   "cell_type": "code",
   "execution_count": 26,
   "metadata": {},
   "outputs": [
    {
     "data": {
      "text/html": [
       "<div>\n",
       "<style scoped>\n",
       "    .dataframe tbody tr th:only-of-type {\n",
       "        vertical-align: middle;\n",
       "    }\n",
       "\n",
       "    .dataframe tbody tr th {\n",
       "        vertical-align: top;\n",
       "    }\n",
       "\n",
       "    .dataframe thead th {\n",
       "        text-align: right;\n",
       "    }\n",
       "</style>\n",
       "<table border=\"1\" class=\"dataframe\">\n",
       "  <thead>\n",
       "    <tr style=\"text-align: right;\">\n",
       "      <th></th>\n",
       "      <th>PostalCode</th>\n",
       "      <th>Borough</th>\n",
       "      <th>Neighborhood</th>\n",
       "    </tr>\n",
       "  </thead>\n",
       "  <tbody>\n",
       "    <tr>\n",
       "      <th>0</th>\n",
       "      <td>M1A</td>\n",
       "      <td>Not assigned</td>\n",
       "      <td>Not assigned</td>\n",
       "    </tr>\n",
       "    <tr>\n",
       "      <th>1</th>\n",
       "      <td>M2A</td>\n",
       "      <td>Not assigned</td>\n",
       "      <td>Not assigned</td>\n",
       "    </tr>\n",
       "    <tr>\n",
       "      <th>2</th>\n",
       "      <td>M3A</td>\n",
       "      <td>North York</td>\n",
       "      <td>Parkwoods</td>\n",
       "    </tr>\n",
       "    <tr>\n",
       "      <th>3</th>\n",
       "      <td>M4A</td>\n",
       "      <td>North York</td>\n",
       "      <td>Victoria Village</td>\n",
       "    </tr>\n",
       "    <tr>\n",
       "      <th>4</th>\n",
       "      <td>M5A</td>\n",
       "      <td>Downtown Toronto</td>\n",
       "      <td>Regent Park, Harbourfront</td>\n",
       "    </tr>\n",
       "  </tbody>\n",
       "</table>\n",
       "</div>"
      ],
      "text/plain": [
       "  PostalCode           Borough               Neighborhood\n",
       "0        M1A      Not assigned               Not assigned\n",
       "1        M2A      Not assigned               Not assigned\n",
       "2        M3A        North York                  Parkwoods\n",
       "3        M4A        North York           Victoria Village\n",
       "4        M5A  Downtown Toronto  Regent Park, Harbourfront"
      ]
     },
     "execution_count": 26,
     "metadata": {},
     "output_type": "execute_result"
    }
   ],
   "source": [
    "toronto_df = pd.DataFrame({'PostalCode': postalCodes,\n",
    "                           'Borough': boroughs,\n",
    "                           'Neighborhood': neighborhoods})\n",
    "toronto_df.head()"
   ]
  },
  {
   "cell_type": "markdown",
   "metadata": {},
   "source": [
    "# Note:\n",
    "<p> as of this date (28th June 2020) the neighborhoods have already been grouped together by borough on the Wikipedia page; the code to do it has been included anyway </p>"
   ]
  },
  {
   "cell_type": "markdown",
   "metadata": {},
   "source": [
    "## Drop cells with Neighborhood == \"Not Assigned\""
   ]
  },
  {
   "cell_type": "code",
   "execution_count": 27,
   "metadata": {},
   "outputs": [
    {
     "name": "stdout",
     "output_type": "stream",
     "text": [
      "(103, 3)\n"
     ]
    },
    {
     "data": {
      "text/html": [
       "<div>\n",
       "<style scoped>\n",
       "    .dataframe tbody tr th:only-of-type {\n",
       "        vertical-align: middle;\n",
       "    }\n",
       "\n",
       "    .dataframe tbody tr th {\n",
       "        vertical-align: top;\n",
       "    }\n",
       "\n",
       "    .dataframe thead th {\n",
       "        text-align: right;\n",
       "    }\n",
       "</style>\n",
       "<table border=\"1\" class=\"dataframe\">\n",
       "  <thead>\n",
       "    <tr style=\"text-align: right;\">\n",
       "      <th></th>\n",
       "      <th>PostalCode</th>\n",
       "      <th>Borough</th>\n",
       "      <th>Neighborhood</th>\n",
       "    </tr>\n",
       "  </thead>\n",
       "  <tbody>\n",
       "    <tr>\n",
       "      <th>0</th>\n",
       "      <td>M3A</td>\n",
       "      <td>North York</td>\n",
       "      <td>Parkwoods</td>\n",
       "    </tr>\n",
       "    <tr>\n",
       "      <th>1</th>\n",
       "      <td>M4A</td>\n",
       "      <td>North York</td>\n",
       "      <td>Victoria Village</td>\n",
       "    </tr>\n",
       "    <tr>\n",
       "      <th>2</th>\n",
       "      <td>M5A</td>\n",
       "      <td>Downtown Toronto</td>\n",
       "      <td>Regent Park, Harbourfront</td>\n",
       "    </tr>\n",
       "    <tr>\n",
       "      <th>3</th>\n",
       "      <td>M6A</td>\n",
       "      <td>North York</td>\n",
       "      <td>Lawrence Manor, Lawrence Heights</td>\n",
       "    </tr>\n",
       "    <tr>\n",
       "      <th>4</th>\n",
       "      <td>M7A</td>\n",
       "      <td>Downtown Toronto</td>\n",
       "      <td>Queen's Park, Ontario Provincial Government</td>\n",
       "    </tr>\n",
       "  </tbody>\n",
       "</table>\n",
       "</div>"
      ],
      "text/plain": [
       "  PostalCode           Borough                                 Neighborhood\n",
       "0        M3A        North York                                    Parkwoods\n",
       "1        M4A        North York                             Victoria Village\n",
       "2        M5A  Downtown Toronto                    Regent Park, Harbourfront\n",
       "3        M6A        North York             Lawrence Manor, Lawrence Heights\n",
       "4        M7A  Downtown Toronto  Queen's Park, Ontario Provincial Government"
      ]
     },
     "execution_count": 27,
     "metadata": {},
     "output_type": "execute_result"
    }
   ],
   "source": [
    "toronto_df = toronto_df[toronto_df.Borough != 'Not assigned'].reset_index(drop = True)\n",
    "print(toronto_df.shape)\n",
    "toronto_df.head()"
   ]
  },
  {
   "cell_type": "markdown",
   "metadata": {},
   "source": [
    "## Group neighborhoods in same borough"
   ]
  },
  {
   "cell_type": "code",
   "execution_count": 28,
   "metadata": {},
   "outputs": [
    {
     "name": "stdout",
     "output_type": "stream",
     "text": [
      "(103, 3)\n"
     ]
    },
    {
     "data": {
      "text/html": [
       "<div>\n",
       "<style scoped>\n",
       "    .dataframe tbody tr th:only-of-type {\n",
       "        vertical-align: middle;\n",
       "    }\n",
       "\n",
       "    .dataframe tbody tr th {\n",
       "        vertical-align: top;\n",
       "    }\n",
       "\n",
       "    .dataframe thead th {\n",
       "        text-align: right;\n",
       "    }\n",
       "</style>\n",
       "<table border=\"1\" class=\"dataframe\">\n",
       "  <thead>\n",
       "    <tr style=\"text-align: right;\">\n",
       "      <th></th>\n",
       "      <th>PostalCode</th>\n",
       "      <th>Borough</th>\n",
       "      <th>Neighborhood</th>\n",
       "    </tr>\n",
       "  </thead>\n",
       "  <tbody>\n",
       "    <tr>\n",
       "      <th>0</th>\n",
       "      <td>M1B</td>\n",
       "      <td>Scarborough</td>\n",
       "      <td>Malvern, Rouge</td>\n",
       "    </tr>\n",
       "    <tr>\n",
       "      <th>1</th>\n",
       "      <td>M1C</td>\n",
       "      <td>Scarborough</td>\n",
       "      <td>Rouge Hill, Port Union, Highland Creek</td>\n",
       "    </tr>\n",
       "    <tr>\n",
       "      <th>2</th>\n",
       "      <td>M1E</td>\n",
       "      <td>Scarborough</td>\n",
       "      <td>Guildwood, Morningside, West Hill</td>\n",
       "    </tr>\n",
       "    <tr>\n",
       "      <th>3</th>\n",
       "      <td>M1G</td>\n",
       "      <td>Scarborough</td>\n",
       "      <td>Woburn</td>\n",
       "    </tr>\n",
       "    <tr>\n",
       "      <th>4</th>\n",
       "      <td>M1H</td>\n",
       "      <td>Scarborough</td>\n",
       "      <td>Cedarbrae</td>\n",
       "    </tr>\n",
       "  </tbody>\n",
       "</table>\n",
       "</div>"
      ],
      "text/plain": [
       "  PostalCode      Borough                            Neighborhood\n",
       "0        M1B  Scarborough                          Malvern, Rouge\n",
       "1        M1C  Scarborough  Rouge Hill, Port Union, Highland Creek\n",
       "2        M1E  Scarborough       Guildwood, Morningside, West Hill\n",
       "3        M1G  Scarborough                                  Woburn\n",
       "4        M1H  Scarborough                               Cedarbrae"
      ]
     },
     "execution_count": 28,
     "metadata": {},
     "output_type": "execute_result"
    }
   ],
   "source": [
    "toronto_df = toronto_df.groupby([\"PostalCode\", \"Borough\"], as_index = False).agg(lambda x: \", \".join(x))\n",
    "print(toronto_df.shape)\n",
    "toronto_df.head()"
   ]
  },
  {
   "cell_type": "markdown",
   "metadata": {},
   "source": [
    "## for unassigned neighborhoods change value to Borough"
   ]
  },
  {
   "cell_type": "code",
   "execution_count": 29,
   "metadata": {},
   "outputs": [
    {
     "data": {
      "text/html": [
       "<div>\n",
       "<style scoped>\n",
       "    .dataframe tbody tr th:only-of-type {\n",
       "        vertical-align: middle;\n",
       "    }\n",
       "\n",
       "    .dataframe tbody tr th {\n",
       "        vertical-align: top;\n",
       "    }\n",
       "\n",
       "    .dataframe thead th {\n",
       "        text-align: right;\n",
       "    }\n",
       "</style>\n",
       "<table border=\"1\" class=\"dataframe\">\n",
       "  <thead>\n",
       "    <tr style=\"text-align: right;\">\n",
       "      <th></th>\n",
       "      <th>PostalCode</th>\n",
       "      <th>Borough</th>\n",
       "      <th>Neighborhood</th>\n",
       "    </tr>\n",
       "  </thead>\n",
       "  <tbody>\n",
       "    <tr>\n",
       "      <th>0</th>\n",
       "      <td>M1B</td>\n",
       "      <td>Scarborough</td>\n",
       "      <td>Malvern, Rouge</td>\n",
       "    </tr>\n",
       "    <tr>\n",
       "      <th>1</th>\n",
       "      <td>M1C</td>\n",
       "      <td>Scarborough</td>\n",
       "      <td>Rouge Hill, Port Union, Highland Creek</td>\n",
       "    </tr>\n",
       "    <tr>\n",
       "      <th>2</th>\n",
       "      <td>M1E</td>\n",
       "      <td>Scarborough</td>\n",
       "      <td>Guildwood, Morningside, West Hill</td>\n",
       "    </tr>\n",
       "    <tr>\n",
       "      <th>3</th>\n",
       "      <td>M1G</td>\n",
       "      <td>Scarborough</td>\n",
       "      <td>Woburn</td>\n",
       "    </tr>\n",
       "    <tr>\n",
       "      <th>4</th>\n",
       "      <td>M1H</td>\n",
       "      <td>Scarborough</td>\n",
       "      <td>Cedarbrae</td>\n",
       "    </tr>\n",
       "  </tbody>\n",
       "</table>\n",
       "</div>"
      ],
      "text/plain": [
       "  PostalCode      Borough                            Neighborhood\n",
       "0        M1B  Scarborough                          Malvern, Rouge\n",
       "1        M1C  Scarborough  Rouge Hill, Port Union, Highland Creek\n",
       "2        M1E  Scarborough       Guildwood, Morningside, West Hill\n",
       "3        M1G  Scarborough                                  Woburn\n",
       "4        M1H  Scarborough                               Cedarbrae"
      ]
     },
     "execution_count": 29,
     "metadata": {},
     "output_type": "execute_result"
    }
   ],
   "source": [
    "for index, row in toronto_df.iterrows():\n",
    "    if row['Neighborhood'] == 'Not assigned':\n",
    "        row['Neighborhood'] == row['Borough']\n",
    "toronto_df.head()"
   ]
  },
  {
   "cell_type": "markdown",
   "metadata": {},
   "source": [
    "## Verify according to the dataframe image in the question."
   ]
  },
  {
   "cell_type": "code",
   "execution_count": 30,
   "metadata": {},
   "outputs": [
    {
     "data": {
      "text/html": [
       "<div>\n",
       "<style scoped>\n",
       "    .dataframe tbody tr th:only-of-type {\n",
       "        vertical-align: middle;\n",
       "    }\n",
       "\n",
       "    .dataframe tbody tr th {\n",
       "        vertical-align: top;\n",
       "    }\n",
       "\n",
       "    .dataframe thead th {\n",
       "        text-align: right;\n",
       "    }\n",
       "</style>\n",
       "<table border=\"1\" class=\"dataframe\">\n",
       "  <thead>\n",
       "    <tr style=\"text-align: right;\">\n",
       "      <th></th>\n",
       "      <th>PostalCode</th>\n",
       "      <th>Borough</th>\n",
       "      <th>Neighborhood</th>\n",
       "    </tr>\n",
       "  </thead>\n",
       "  <tbody>\n",
       "    <tr>\n",
       "      <th>0</th>\n",
       "      <td>M5G</td>\n",
       "      <td>Downtown Toronto</td>\n",
       "      <td>Central Bay Street</td>\n",
       "    </tr>\n",
       "    <tr>\n",
       "      <th>1</th>\n",
       "      <td>M2H</td>\n",
       "      <td>North York</td>\n",
       "      <td>Hillcrest Village</td>\n",
       "    </tr>\n",
       "    <tr>\n",
       "      <th>2</th>\n",
       "      <td>M4B</td>\n",
       "      <td>East York</td>\n",
       "      <td>Parkview Hill, Woodbine Gardens</td>\n",
       "    </tr>\n",
       "    <tr>\n",
       "      <th>3</th>\n",
       "      <td>M1J</td>\n",
       "      <td>Scarborough</td>\n",
       "      <td>Scarborough Village</td>\n",
       "    </tr>\n",
       "    <tr>\n",
       "      <th>4</th>\n",
       "      <td>M4G</td>\n",
       "      <td>East York</td>\n",
       "      <td>Leaside</td>\n",
       "    </tr>\n",
       "    <tr>\n",
       "      <th>5</th>\n",
       "      <td>M4M</td>\n",
       "      <td>East Toronto</td>\n",
       "      <td>Studio District</td>\n",
       "    </tr>\n",
       "    <tr>\n",
       "      <th>6</th>\n",
       "      <td>M1R</td>\n",
       "      <td>Scarborough</td>\n",
       "      <td>Wexford, Maryvale</td>\n",
       "    </tr>\n",
       "    <tr>\n",
       "      <th>7</th>\n",
       "      <td>M9V</td>\n",
       "      <td>Etobicoke</td>\n",
       "      <td>South Steeles, Silverstone, Humbergate, Jamest...</td>\n",
       "    </tr>\n",
       "    <tr>\n",
       "      <th>8</th>\n",
       "      <td>M9L</td>\n",
       "      <td>North York</td>\n",
       "      <td>Humber Summit</td>\n",
       "    </tr>\n",
       "    <tr>\n",
       "      <th>9</th>\n",
       "      <td>M5V</td>\n",
       "      <td>Downtown Toronto</td>\n",
       "      <td>CN Tower, King and Spadina, Railway Lands, Har...</td>\n",
       "    </tr>\n",
       "    <tr>\n",
       "      <th>10</th>\n",
       "      <td>M1B</td>\n",
       "      <td>Scarborough</td>\n",
       "      <td>Malvern, Rouge</td>\n",
       "    </tr>\n",
       "    <tr>\n",
       "      <th>11</th>\n",
       "      <td>M5A</td>\n",
       "      <td>Downtown Toronto</td>\n",
       "      <td>Regent Park, Harbourfront</td>\n",
       "    </tr>\n",
       "  </tbody>\n",
       "</table>\n",
       "</div>"
      ],
      "text/plain": [
       "   PostalCode           Borough  \\\n",
       "0         M5G  Downtown Toronto   \n",
       "1         M2H        North York   \n",
       "2         M4B         East York   \n",
       "3         M1J       Scarborough   \n",
       "4         M4G         East York   \n",
       "5         M4M      East Toronto   \n",
       "6         M1R       Scarborough   \n",
       "7         M9V         Etobicoke   \n",
       "8         M9L        North York   \n",
       "9         M5V  Downtown Toronto   \n",
       "10        M1B       Scarborough   \n",
       "11        M5A  Downtown Toronto   \n",
       "\n",
       "                                         Neighborhood  \n",
       "0                                  Central Bay Street  \n",
       "1                                   Hillcrest Village  \n",
       "2                     Parkview Hill, Woodbine Gardens  \n",
       "3                                 Scarborough Village  \n",
       "4                                             Leaside  \n",
       "5                                     Studio District  \n",
       "6                                   Wexford, Maryvale  \n",
       "7   South Steeles, Silverstone, Humbergate, Jamest...  \n",
       "8                                       Humber Summit  \n",
       "9   CN Tower, King and Spadina, Railway Lands, Har...  \n",
       "10                                     Malvern, Rouge  \n",
       "11                          Regent Park, Harbourfront  "
      ]
     },
     "execution_count": 30,
     "metadata": {},
     "output_type": "execute_result"
    }
   ],
   "source": [
    "cols = ['PostalCode', 'Borough', 'Neighborhood']\n",
    "test_df = pd.DataFrame(columns = cols)\n",
    "\n",
    "test_list = ['M5G', 'M2H', 'M4B', 'M1J', 'M4G', 'M4M', 'M1R', 'M9V', 'M9L', 'M5V', 'M1B', 'M5A']\n",
    "\n",
    "for postalcode in test_list:\n",
    "    test_df = test_df.append(toronto_df[toronto_df['PostalCode'] == postalcode], ignore_index = True)\n",
    "test_df"
   ]
  },
  {
   "cell_type": "markdown",
   "metadata": {},
   "source": [
    "## Finally, print shape of the dataframe"
   ]
  },
  {
   "cell_type": "code",
   "execution_count": 31,
   "metadata": {},
   "outputs": [
    {
     "data": {
      "text/plain": [
       "(103, 3)"
      ]
     },
     "execution_count": 31,
     "metadata": {},
     "output_type": "execute_result"
    }
   ],
   "source": [
    "toronto_df.shape"
   ]
  },
  {
   "cell_type": "markdown",
   "metadata": {},
   "source": [
    "# Part 2"
   ]
  },
  {
   "cell_type": "markdown",
   "metadata": {},
   "source": [
    "## load location coordinates from coursera"
   ]
  },
  {
   "cell_type": "code",
   "execution_count": 34,
   "metadata": {},
   "outputs": [
    {
     "data": {
      "text/html": [
       "<div>\n",
       "<style scoped>\n",
       "    .dataframe tbody tr th:only-of-type {\n",
       "        vertical-align: middle;\n",
       "    }\n",
       "\n",
       "    .dataframe tbody tr th {\n",
       "        vertical-align: top;\n",
       "    }\n",
       "\n",
       "    .dataframe thead th {\n",
       "        text-align: right;\n",
       "    }\n",
       "</style>\n",
       "<table border=\"1\" class=\"dataframe\">\n",
       "  <thead>\n",
       "    <tr style=\"text-align: right;\">\n",
       "      <th></th>\n",
       "      <th>Postal Code</th>\n",
       "      <th>Latitude</th>\n",
       "      <th>Longitude</th>\n",
       "    </tr>\n",
       "  </thead>\n",
       "  <tbody>\n",
       "    <tr>\n",
       "      <th>0</th>\n",
       "      <td>M1B</td>\n",
       "      <td>43.806686</td>\n",
       "      <td>-79.194353</td>\n",
       "    </tr>\n",
       "    <tr>\n",
       "      <th>1</th>\n",
       "      <td>M1C</td>\n",
       "      <td>43.784535</td>\n",
       "      <td>-79.160497</td>\n",
       "    </tr>\n",
       "    <tr>\n",
       "      <th>2</th>\n",
       "      <td>M1E</td>\n",
       "      <td>43.763573</td>\n",
       "      <td>-79.188711</td>\n",
       "    </tr>\n",
       "    <tr>\n",
       "      <th>3</th>\n",
       "      <td>M1G</td>\n",
       "      <td>43.770992</td>\n",
       "      <td>-79.216917</td>\n",
       "    </tr>\n",
       "    <tr>\n",
       "      <th>4</th>\n",
       "      <td>M1H</td>\n",
       "      <td>43.773136</td>\n",
       "      <td>-79.239476</td>\n",
       "    </tr>\n",
       "  </tbody>\n",
       "</table>\n",
       "</div>"
      ],
      "text/plain": [
       "  Postal Code   Latitude  Longitude\n",
       "0         M1B  43.806686 -79.194353\n",
       "1         M1C  43.784535 -79.160497\n",
       "2         M1E  43.763573 -79.188711\n",
       "3         M1G  43.770992 -79.216917\n",
       "4         M1H  43.773136 -79.239476"
      ]
     },
     "execution_count": 34,
     "metadata": {},
     "output_type": "execute_result"
    }
   ],
   "source": [
    "coordinates = pd.read_csv('https://cocl.us/Geospatial_data')\n",
    "coordinates.head()"
   ]
  },
  {
   "cell_type": "code",
   "execution_count": 35,
   "metadata": {},
   "outputs": [
    {
     "data": {
      "text/html": [
       "<div>\n",
       "<style scoped>\n",
       "    .dataframe tbody tr th:only-of-type {\n",
       "        vertical-align: middle;\n",
       "    }\n",
       "\n",
       "    .dataframe tbody tr th {\n",
       "        vertical-align: top;\n",
       "    }\n",
       "\n",
       "    .dataframe thead th {\n",
       "        text-align: right;\n",
       "    }\n",
       "</style>\n",
       "<table border=\"1\" class=\"dataframe\">\n",
       "  <thead>\n",
       "    <tr style=\"text-align: right;\">\n",
       "      <th></th>\n",
       "      <th>PostalCode</th>\n",
       "      <th>Latitude</th>\n",
       "      <th>Longitude</th>\n",
       "    </tr>\n",
       "  </thead>\n",
       "  <tbody>\n",
       "    <tr>\n",
       "      <th>0</th>\n",
       "      <td>M1B</td>\n",
       "      <td>43.806686</td>\n",
       "      <td>-79.194353</td>\n",
       "    </tr>\n",
       "    <tr>\n",
       "      <th>1</th>\n",
       "      <td>M1C</td>\n",
       "      <td>43.784535</td>\n",
       "      <td>-79.160497</td>\n",
       "    </tr>\n",
       "    <tr>\n",
       "      <th>2</th>\n",
       "      <td>M1E</td>\n",
       "      <td>43.763573</td>\n",
       "      <td>-79.188711</td>\n",
       "    </tr>\n",
       "    <tr>\n",
       "      <th>3</th>\n",
       "      <td>M1G</td>\n",
       "      <td>43.770992</td>\n",
       "      <td>-79.216917</td>\n",
       "    </tr>\n",
       "    <tr>\n",
       "      <th>4</th>\n",
       "      <td>M1H</td>\n",
       "      <td>43.773136</td>\n",
       "      <td>-79.239476</td>\n",
       "    </tr>\n",
       "  </tbody>\n",
       "</table>\n",
       "</div>"
      ],
      "text/plain": [
       "  PostalCode   Latitude  Longitude\n",
       "0        M1B  43.806686 -79.194353\n",
       "1        M1C  43.784535 -79.160497\n",
       "2        M1E  43.763573 -79.188711\n",
       "3        M1G  43.770992 -79.216917\n",
       "4        M1H  43.773136 -79.239476"
      ]
     },
     "execution_count": 35,
     "metadata": {},
     "output_type": "execute_result"
    }
   ],
   "source": [
    "coordinates.rename(columns = {'Postal Code': 'PostalCode'}, inplace = True)\n",
    "coordinates.head()"
   ]
  },
  {
   "cell_type": "markdown",
   "metadata": {},
   "source": [
    "## Merge coordinates and toronto_df"
   ]
  },
  {
   "cell_type": "code",
   "execution_count": 36,
   "metadata": {},
   "outputs": [
    {
     "data": {
      "text/html": [
       "<div>\n",
       "<style scoped>\n",
       "    .dataframe tbody tr th:only-of-type {\n",
       "        vertical-align: middle;\n",
       "    }\n",
       "\n",
       "    .dataframe tbody tr th {\n",
       "        vertical-align: top;\n",
       "    }\n",
       "\n",
       "    .dataframe thead th {\n",
       "        text-align: right;\n",
       "    }\n",
       "</style>\n",
       "<table border=\"1\" class=\"dataframe\">\n",
       "  <thead>\n",
       "    <tr style=\"text-align: right;\">\n",
       "      <th></th>\n",
       "      <th>PostalCode</th>\n",
       "      <th>Borough</th>\n",
       "      <th>Neighborhood</th>\n",
       "      <th>Latitude</th>\n",
       "      <th>Longitude</th>\n",
       "    </tr>\n",
       "  </thead>\n",
       "  <tbody>\n",
       "    <tr>\n",
       "      <th>0</th>\n",
       "      <td>M1B</td>\n",
       "      <td>Scarborough</td>\n",
       "      <td>Malvern, Rouge</td>\n",
       "      <td>43.806686</td>\n",
       "      <td>-79.194353</td>\n",
       "    </tr>\n",
       "    <tr>\n",
       "      <th>1</th>\n",
       "      <td>M1C</td>\n",
       "      <td>Scarborough</td>\n",
       "      <td>Rouge Hill, Port Union, Highland Creek</td>\n",
       "      <td>43.784535</td>\n",
       "      <td>-79.160497</td>\n",
       "    </tr>\n",
       "    <tr>\n",
       "      <th>2</th>\n",
       "      <td>M1E</td>\n",
       "      <td>Scarborough</td>\n",
       "      <td>Guildwood, Morningside, West Hill</td>\n",
       "      <td>43.763573</td>\n",
       "      <td>-79.188711</td>\n",
       "    </tr>\n",
       "    <tr>\n",
       "      <th>3</th>\n",
       "      <td>M1G</td>\n",
       "      <td>Scarborough</td>\n",
       "      <td>Woburn</td>\n",
       "      <td>43.770992</td>\n",
       "      <td>-79.216917</td>\n",
       "    </tr>\n",
       "    <tr>\n",
       "      <th>4</th>\n",
       "      <td>M1H</td>\n",
       "      <td>Scarborough</td>\n",
       "      <td>Cedarbrae</td>\n",
       "      <td>43.773136</td>\n",
       "      <td>-79.239476</td>\n",
       "    </tr>\n",
       "  </tbody>\n",
       "</table>\n",
       "</div>"
      ],
      "text/plain": [
       "  PostalCode      Borough                            Neighborhood   Latitude  \\\n",
       "0        M1B  Scarborough                          Malvern, Rouge  43.806686   \n",
       "1        M1C  Scarborough  Rouge Hill, Port Union, Highland Creek  43.784535   \n",
       "2        M1E  Scarborough       Guildwood, Morningside, West Hill  43.763573   \n",
       "3        M1G  Scarborough                                  Woburn  43.770992   \n",
       "4        M1H  Scarborough                               Cedarbrae  43.773136   \n",
       "\n",
       "   Longitude  \n",
       "0 -79.194353  \n",
       "1 -79.160497  \n",
       "2 -79.188711  \n",
       "3 -79.216917  \n",
       "4 -79.239476  "
      ]
     },
     "execution_count": 36,
     "metadata": {},
     "output_type": "execute_result"
    }
   ],
   "source": [
    "final_df = toronto_df.merge(coordinates, on = \"PostalCode\", how = \"left\")\n",
    "final_df.head()"
   ]
  },
  {
   "cell_type": "markdown",
   "metadata": {},
   "source": [
    "## Creating output as shown on submission page"
   ]
  },
  {
   "cell_type": "code",
   "execution_count": 37,
   "metadata": {},
   "outputs": [
    {
     "data": {
      "text/html": [
       "<div>\n",
       "<style scoped>\n",
       "    .dataframe tbody tr th:only-of-type {\n",
       "        vertical-align: middle;\n",
       "    }\n",
       "\n",
       "    .dataframe tbody tr th {\n",
       "        vertical-align: top;\n",
       "    }\n",
       "\n",
       "    .dataframe thead th {\n",
       "        text-align: right;\n",
       "    }\n",
       "</style>\n",
       "<table border=\"1\" class=\"dataframe\">\n",
       "  <thead>\n",
       "    <tr style=\"text-align: right;\">\n",
       "      <th></th>\n",
       "      <th>PostalCode</th>\n",
       "      <th>Borough</th>\n",
       "      <th>Neighborhood</th>\n",
       "      <th>Latitude</th>\n",
       "      <th>Longitude</th>\n",
       "    </tr>\n",
       "  </thead>\n",
       "  <tbody>\n",
       "    <tr>\n",
       "      <th>0</th>\n",
       "      <td>M5G</td>\n",
       "      <td>Downtown Toronto</td>\n",
       "      <td>Central Bay Street</td>\n",
       "      <td>43.657952</td>\n",
       "      <td>-79.387383</td>\n",
       "    </tr>\n",
       "    <tr>\n",
       "      <th>1</th>\n",
       "      <td>M2H</td>\n",
       "      <td>North York</td>\n",
       "      <td>Hillcrest Village</td>\n",
       "      <td>43.803762</td>\n",
       "      <td>-79.363452</td>\n",
       "    </tr>\n",
       "    <tr>\n",
       "      <th>2</th>\n",
       "      <td>M4B</td>\n",
       "      <td>East York</td>\n",
       "      <td>Parkview Hill, Woodbine Gardens</td>\n",
       "      <td>43.706397</td>\n",
       "      <td>-79.309937</td>\n",
       "    </tr>\n",
       "    <tr>\n",
       "      <th>3</th>\n",
       "      <td>M1J</td>\n",
       "      <td>Scarborough</td>\n",
       "      <td>Scarborough Village</td>\n",
       "      <td>43.744734</td>\n",
       "      <td>-79.239476</td>\n",
       "    </tr>\n",
       "    <tr>\n",
       "      <th>4</th>\n",
       "      <td>M4G</td>\n",
       "      <td>East York</td>\n",
       "      <td>Leaside</td>\n",
       "      <td>43.709060</td>\n",
       "      <td>-79.363452</td>\n",
       "    </tr>\n",
       "    <tr>\n",
       "      <th>5</th>\n",
       "      <td>M4M</td>\n",
       "      <td>East Toronto</td>\n",
       "      <td>Studio District</td>\n",
       "      <td>43.659526</td>\n",
       "      <td>-79.340923</td>\n",
       "    </tr>\n",
       "    <tr>\n",
       "      <th>6</th>\n",
       "      <td>M1R</td>\n",
       "      <td>Scarborough</td>\n",
       "      <td>Wexford, Maryvale</td>\n",
       "      <td>43.750072</td>\n",
       "      <td>-79.295849</td>\n",
       "    </tr>\n",
       "    <tr>\n",
       "      <th>7</th>\n",
       "      <td>M9V</td>\n",
       "      <td>Etobicoke</td>\n",
       "      <td>South Steeles, Silverstone, Humbergate, Jamest...</td>\n",
       "      <td>43.739416</td>\n",
       "      <td>-79.588437</td>\n",
       "    </tr>\n",
       "    <tr>\n",
       "      <th>8</th>\n",
       "      <td>M9L</td>\n",
       "      <td>North York</td>\n",
       "      <td>Humber Summit</td>\n",
       "      <td>43.756303</td>\n",
       "      <td>-79.565963</td>\n",
       "    </tr>\n",
       "    <tr>\n",
       "      <th>9</th>\n",
       "      <td>M5V</td>\n",
       "      <td>Downtown Toronto</td>\n",
       "      <td>CN Tower, King and Spadina, Railway Lands, Har...</td>\n",
       "      <td>43.628947</td>\n",
       "      <td>-79.394420</td>\n",
       "    </tr>\n",
       "    <tr>\n",
       "      <th>10</th>\n",
       "      <td>M1B</td>\n",
       "      <td>Scarborough</td>\n",
       "      <td>Malvern, Rouge</td>\n",
       "      <td>43.806686</td>\n",
       "      <td>-79.194353</td>\n",
       "    </tr>\n",
       "    <tr>\n",
       "      <th>11</th>\n",
       "      <td>M5A</td>\n",
       "      <td>Downtown Toronto</td>\n",
       "      <td>Regent Park, Harbourfront</td>\n",
       "      <td>43.654260</td>\n",
       "      <td>-79.360636</td>\n",
       "    </tr>\n",
       "  </tbody>\n",
       "</table>\n",
       "</div>"
      ],
      "text/plain": [
       "   PostalCode           Borough  \\\n",
       "0         M5G  Downtown Toronto   \n",
       "1         M2H        North York   \n",
       "2         M4B         East York   \n",
       "3         M1J       Scarborough   \n",
       "4         M4G         East York   \n",
       "5         M4M      East Toronto   \n",
       "6         M1R       Scarborough   \n",
       "7         M9V         Etobicoke   \n",
       "8         M9L        North York   \n",
       "9         M5V  Downtown Toronto   \n",
       "10        M1B       Scarborough   \n",
       "11        M5A  Downtown Toronto   \n",
       "\n",
       "                                         Neighborhood   Latitude  Longitude  \n",
       "0                                  Central Bay Street  43.657952 -79.387383  \n",
       "1                                   Hillcrest Village  43.803762 -79.363452  \n",
       "2                     Parkview Hill, Woodbine Gardens  43.706397 -79.309937  \n",
       "3                                 Scarborough Village  43.744734 -79.239476  \n",
       "4                                             Leaside  43.709060 -79.363452  \n",
       "5                                     Studio District  43.659526 -79.340923  \n",
       "6                                   Wexford, Maryvale  43.750072 -79.295849  \n",
       "7   South Steeles, Silverstone, Humbergate, Jamest...  43.739416 -79.588437  \n",
       "8                                       Humber Summit  43.756303 -79.565963  \n",
       "9   CN Tower, King and Spadina, Railway Lands, Har...  43.628947 -79.394420  \n",
       "10                                     Malvern, Rouge  43.806686 -79.194353  \n",
       "11                          Regent Park, Harbourfront  43.654260 -79.360636  "
      ]
     },
     "execution_count": 37,
     "metadata": {},
     "output_type": "execute_result"
    }
   ],
   "source": [
    "cols = ['PostalCode', 'Borough', 'Neighborhood']\n",
    "test_df = pd.DataFrame(columns = cols)\n",
    "\n",
    "test_list = ['M5G', 'M2H', 'M4B', 'M1J', 'M4G', 'M4M', 'M1R', 'M9V', 'M9L', 'M5V', 'M1B', 'M5A']\n",
    "\n",
    "for postalcode in test_list:\n",
    "    test_df = test_df.append(final_df[final_df['PostalCode'] == postalcode], ignore_index = True)\n",
    "test_df"
   ]
  },
  {
   "cell_type": "markdown",
   "metadata": {},
   "source": [
    "# Part 3"
   ]
  },
  {
   "cell_type": "markdown",
   "metadata": {},
   "source": [
    "## using geopy to get LAT & LONG of Toronto"
   ]
  },
  {
   "cell_type": "code",
   "execution_count": 38,
   "metadata": {},
   "outputs": [
    {
     "name": "stdout",
     "output_type": "stream",
     "text": [
      "Toronto coordinates : 43.6534817, -79.3839347\n"
     ]
    }
   ],
   "source": [
    "address = 'Toronto'\n",
    "geolocator = Nominatim(user_agent = 'lol-app') # for the purpose of assignment; give any name to user_agent\n",
    "location= geolocator.geocode(address)\n",
    "latitude = location.latitude\n",
    "longitude = location.longitude\n",
    "print(\"Toronto coordinates : {}, {}\".format(latitude, longitude))"
   ]
  },
  {
   "cell_type": "markdown",
   "metadata": {},
   "source": [
    "## Create a map of Toronto"
   ]
  },
  {
   "cell_type": "code",
   "execution_count": 49,
   "metadata": {},
   "outputs": [
    {
     "data": {
      "text/html": [
       "<div style=\"width:100%;\"><div style=\"position:relative;width:100%;height:0;padding-bottom:60%;\"><span style=\"color:#565656\">Make this Notebook Trusted to load map: File -> Trust Notebook</span><iframe src=\"about:blank\" style=\"position:absolute;width:100%;height:100%;left:0;top:0;border:none !important;\" data-html=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 onload=\"this.contentDocument.open();this.contentDocument.write(atob(this.getAttribute('data-html')));this.contentDocument.close();\" allowfullscreen webkitallowfullscreen mozallowfullscreen></iframe></div></div>"
      ],
      "text/plain": [
       "<folium.folium.Map at 0x231784daef0>"
      ]
     },
     "execution_count": 49,
     "metadata": {},
     "output_type": "execute_result"
    }
   ],
   "source": [
    "map_toronto = folium.Map(location = [latitude, longitude], zoom_start = 10.3) #creates map\n",
    "#add markers to map\n",
    "\n",
    "for lat, long, borough, neighborhood in zip(final_df['Latitude'], final_df['Longitude'], final_df['Borough'], final_df['Neighborhood']):\n",
    "    label = '{}, {}'.format(neighborhood, borough)\n",
    "    label = folium.Popup(label, parse_html = True)\n",
    "    folium.CircleMarker(\n",
    "        [lat, long],\n",
    "        radius = 5,\n",
    "        popup = label,\n",
    "        color = 'blue',\n",
    "        fill = True,\n",
    "        fill_color = '#3186cc',\n",
    "        fill_opacity=0.7\n",
    "    ).add_to(map_toronto)\n",
    "    \n",
    "map_toronto"
   ]
  },
  {
   "cell_type": "code",
   "execution_count": null,
   "metadata": {},
   "outputs": [],
   "source": []
  },
  {
   "cell_type": "code",
   "execution_count": null,
   "metadata": {},
   "outputs": [],
   "source": []
  },
  {
   "cell_type": "code",
   "execution_count": null,
   "metadata": {},
   "outputs": [],
   "source": []
  },
  {
   "cell_type": "code",
   "execution_count": null,
   "metadata": {},
   "outputs": [],
   "source": []
  },
  {
   "cell_type": "code",
   "execution_count": null,
   "metadata": {},
   "outputs": [],
   "source": []
  }
 ],
 "metadata": {
  "kernelspec": {
   "display_name": "Python 3",
   "language": "python",
   "name": "python3"
  },
  "language_info": {
   "codemirror_mode": {
    "name": "ipython",
    "version": 3
   },
   "file_extension": ".py",
   "mimetype": "text/x-python",
   "name": "python",
   "nbconvert_exporter": "python",
   "pygments_lexer": "ipython3",
   "version": "3.6.4"
  }
 },
 "nbformat": 4,
 "nbformat_minor": 2
}
