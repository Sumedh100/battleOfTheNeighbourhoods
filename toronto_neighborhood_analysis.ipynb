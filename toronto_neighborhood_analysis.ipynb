{
 "cells": [
  {
   "cell_type": "markdown",
   "metadata": {},
   "source": [
    "## Imports"
   ]
  },
  {
   "cell_type": "code",
   "execution_count": 22,
   "metadata": {},
   "outputs": [],
   "source": [
    "import pandas as pd\n",
    "import numpy as np\n",
    "import json\n",
    "\n",
    "from geopy.geocoders import Nominatim # to conver address to lat and long values\n",
    "\n",
    "import requests # handle requests\n",
    "from bs4 import BeautifulSoup\n",
    "from pandas.io.json import json_normalize # JSON to pandas dataframe\n",
    "\n",
    "import matplotlib.pyplot as plt\n",
    "\n",
    "from sklearn.cluster import KMeans\n",
    "\n",
    "import folium # for maps"
   ]
  },
  {
   "cell_type": "markdown",
   "metadata": {},
   "source": [
    "# PART 1"
   ]
  },
  {
   "cell_type": "markdown",
   "metadata": {},
   "source": [
    "## Scraping data from Wikipedia"
   ]
  },
  {
   "cell_type": "code",
   "execution_count": 23,
   "metadata": {},
   "outputs": [],
   "source": [
    "data = requests.get('https://en.wikipedia.org/wiki/List_of_postal_codes_of_Canada:_M').text"
   ]
  },
  {
   "cell_type": "code",
   "execution_count": 24,
   "metadata": {},
   "outputs": [],
   "source": [
    "soup = BeautifulSoup(data, 'html.parser') # BeautifulSoup object to parse data\n",
    "postalCodes = []\n",
    "boroughs = []\n",
    "neighborhoods = []"
   ]
  },
  {
   "cell_type": "code",
   "execution_count": 25,
   "metadata": {},
   "outputs": [],
   "source": [
    "for row in soup.find('table').find_all('tr'):\n",
    "    cells = row.find_all('td')\n",
    "    if(len(cells) > 0): # condition because some rows may be empty && first row is header\n",
    "        postalCodes.append(cells[0].text.rstrip('\\n'))\n",
    "        boroughs.append(cells[1].text.rstrip('\\n'))\n",
    "        neighborhoods.append(cells[2].text.rstrip('\\n'))"
   ]
  },
  {
   "cell_type": "code",
   "execution_count": 26,
   "metadata": {},
   "outputs": [
    {
     "data": {
      "text/html": [
       "<div>\n",
       "<style scoped>\n",
       "    .dataframe tbody tr th:only-of-type {\n",
       "        vertical-align: middle;\n",
       "    }\n",
       "\n",
       "    .dataframe tbody tr th {\n",
       "        vertical-align: top;\n",
       "    }\n",
       "\n",
       "    .dataframe thead th {\n",
       "        text-align: right;\n",
       "    }\n",
       "</style>\n",
       "<table border=\"1\" class=\"dataframe\">\n",
       "  <thead>\n",
       "    <tr style=\"text-align: right;\">\n",
       "      <th></th>\n",
       "      <th>PostalCode</th>\n",
       "      <th>Borough</th>\n",
       "      <th>Neighborhood</th>\n",
       "    </tr>\n",
       "  </thead>\n",
       "  <tbody>\n",
       "    <tr>\n",
       "      <th>0</th>\n",
       "      <td>M1A</td>\n",
       "      <td>Not assigned</td>\n",
       "      <td>Not assigned</td>\n",
       "    </tr>\n",
       "    <tr>\n",
       "      <th>1</th>\n",
       "      <td>M2A</td>\n",
       "      <td>Not assigned</td>\n",
       "      <td>Not assigned</td>\n",
       "    </tr>\n",
       "    <tr>\n",
       "      <th>2</th>\n",
       "      <td>M3A</td>\n",
       "      <td>North York</td>\n",
       "      <td>Parkwoods</td>\n",
       "    </tr>\n",
       "    <tr>\n",
       "      <th>3</th>\n",
       "      <td>M4A</td>\n",
       "      <td>North York</td>\n",
       "      <td>Victoria Village</td>\n",
       "    </tr>\n",
       "    <tr>\n",
       "      <th>4</th>\n",
       "      <td>M5A</td>\n",
       "      <td>Downtown Toronto</td>\n",
       "      <td>Regent Park, Harbourfront</td>\n",
       "    </tr>\n",
       "  </tbody>\n",
       "</table>\n",
       "</div>"
      ],
      "text/plain": [
       "  PostalCode           Borough               Neighborhood\n",
       "0        M1A      Not assigned               Not assigned\n",
       "1        M2A      Not assigned               Not assigned\n",
       "2        M3A        North York                  Parkwoods\n",
       "3        M4A        North York           Victoria Village\n",
       "4        M5A  Downtown Toronto  Regent Park, Harbourfront"
      ]
     },
     "execution_count": 26,
     "metadata": {},
     "output_type": "execute_result"
    }
   ],
   "source": [
    "toronto_df = pd.DataFrame({'PostalCode': postalCodes,\n",
    "                           'Borough': boroughs,\n",
    "                           'Neighborhood': neighborhoods})\n",
    "toronto_df.head()"
   ]
  },
  {
   "cell_type": "markdown",
   "metadata": {},
   "source": [
    "# Note:\n",
    "<p> as of this date (28th June 2020) the neighborhoods have already been grouped together by borough on the Wikipedia page; the code to do it has been included anyway </p>"
   ]
  },
  {
   "cell_type": "markdown",
   "metadata": {},
   "source": [
    "## Drop cells with Neighborhood == \"Not Assigned\""
   ]
  },
  {
   "cell_type": "code",
   "execution_count": 27,
   "metadata": {},
   "outputs": [
    {
     "name": "stdout",
     "output_type": "stream",
     "text": [
      "(103, 3)\n"
     ]
    },
    {
     "data": {
      "text/html": [
       "<div>\n",
       "<style scoped>\n",
       "    .dataframe tbody tr th:only-of-type {\n",
       "        vertical-align: middle;\n",
       "    }\n",
       "\n",
       "    .dataframe tbody tr th {\n",
       "        vertical-align: top;\n",
       "    }\n",
       "\n",
       "    .dataframe thead th {\n",
       "        text-align: right;\n",
       "    }\n",
       "</style>\n",
       "<table border=\"1\" class=\"dataframe\">\n",
       "  <thead>\n",
       "    <tr style=\"text-align: right;\">\n",
       "      <th></th>\n",
       "      <th>PostalCode</th>\n",
       "      <th>Borough</th>\n",
       "      <th>Neighborhood</th>\n",
       "    </tr>\n",
       "  </thead>\n",
       "  <tbody>\n",
       "    <tr>\n",
       "      <th>0</th>\n",
       "      <td>M3A</td>\n",
       "      <td>North York</td>\n",
       "      <td>Parkwoods</td>\n",
       "    </tr>\n",
       "    <tr>\n",
       "      <th>1</th>\n",
       "      <td>M4A</td>\n",
       "      <td>North York</td>\n",
       "      <td>Victoria Village</td>\n",
       "    </tr>\n",
       "    <tr>\n",
       "      <th>2</th>\n",
       "      <td>M5A</td>\n",
       "      <td>Downtown Toronto</td>\n",
       "      <td>Regent Park, Harbourfront</td>\n",
       "    </tr>\n",
       "    <tr>\n",
       "      <th>3</th>\n",
       "      <td>M6A</td>\n",
       "      <td>North York</td>\n",
       "      <td>Lawrence Manor, Lawrence Heights</td>\n",
       "    </tr>\n",
       "    <tr>\n",
       "      <th>4</th>\n",
       "      <td>M7A</td>\n",
       "      <td>Downtown Toronto</td>\n",
       "      <td>Queen's Park, Ontario Provincial Government</td>\n",
       "    </tr>\n",
       "  </tbody>\n",
       "</table>\n",
       "</div>"
      ],
      "text/plain": [
       "  PostalCode           Borough                                 Neighborhood\n",
       "0        M3A        North York                                    Parkwoods\n",
       "1        M4A        North York                             Victoria Village\n",
       "2        M5A  Downtown Toronto                    Regent Park, Harbourfront\n",
       "3        M6A        North York             Lawrence Manor, Lawrence Heights\n",
       "4        M7A  Downtown Toronto  Queen's Park, Ontario Provincial Government"
      ]
     },
     "execution_count": 27,
     "metadata": {},
     "output_type": "execute_result"
    }
   ],
   "source": [
    "toronto_df = toronto_df[toronto_df.Borough != 'Not assigned'].reset_index(drop = True)\n",
    "print(toronto_df.shape)\n",
    "toronto_df.head()"
   ]
  },
  {
   "cell_type": "markdown",
   "metadata": {},
   "source": [
    "## Group neighborhoods in same borough"
   ]
  },
  {
   "cell_type": "code",
   "execution_count": 28,
   "metadata": {},
   "outputs": [
    {
     "name": "stdout",
     "output_type": "stream",
     "text": [
      "(103, 3)\n"
     ]
    },
    {
     "data": {
      "text/html": [
       "<div>\n",
       "<style scoped>\n",
       "    .dataframe tbody tr th:only-of-type {\n",
       "        vertical-align: middle;\n",
       "    }\n",
       "\n",
       "    .dataframe tbody tr th {\n",
       "        vertical-align: top;\n",
       "    }\n",
       "\n",
       "    .dataframe thead th {\n",
       "        text-align: right;\n",
       "    }\n",
       "</style>\n",
       "<table border=\"1\" class=\"dataframe\">\n",
       "  <thead>\n",
       "    <tr style=\"text-align: right;\">\n",
       "      <th></th>\n",
       "      <th>PostalCode</th>\n",
       "      <th>Borough</th>\n",
       "      <th>Neighborhood</th>\n",
       "    </tr>\n",
       "  </thead>\n",
       "  <tbody>\n",
       "    <tr>\n",
       "      <th>0</th>\n",
       "      <td>M1B</td>\n",
       "      <td>Scarborough</td>\n",
       "      <td>Malvern, Rouge</td>\n",
       "    </tr>\n",
       "    <tr>\n",
       "      <th>1</th>\n",
       "      <td>M1C</td>\n",
       "      <td>Scarborough</td>\n",
       "      <td>Rouge Hill, Port Union, Highland Creek</td>\n",
       "    </tr>\n",
       "    <tr>\n",
       "      <th>2</th>\n",
       "      <td>M1E</td>\n",
       "      <td>Scarborough</td>\n",
       "      <td>Guildwood, Morningside, West Hill</td>\n",
       "    </tr>\n",
       "    <tr>\n",
       "      <th>3</th>\n",
       "      <td>M1G</td>\n",
       "      <td>Scarborough</td>\n",
       "      <td>Woburn</td>\n",
       "    </tr>\n",
       "    <tr>\n",
       "      <th>4</th>\n",
       "      <td>M1H</td>\n",
       "      <td>Scarborough</td>\n",
       "      <td>Cedarbrae</td>\n",
       "    </tr>\n",
       "  </tbody>\n",
       "</table>\n",
       "</div>"
      ],
      "text/plain": [
       "  PostalCode      Borough                            Neighborhood\n",
       "0        M1B  Scarborough                          Malvern, Rouge\n",
       "1        M1C  Scarborough  Rouge Hill, Port Union, Highland Creek\n",
       "2        M1E  Scarborough       Guildwood, Morningside, West Hill\n",
       "3        M1G  Scarborough                                  Woburn\n",
       "4        M1H  Scarborough                               Cedarbrae"
      ]
     },
     "execution_count": 28,
     "metadata": {},
     "output_type": "execute_result"
    }
   ],
   "source": [
    "toronto_df = toronto_df.groupby([\"PostalCode\", \"Borough\"], as_index = False).agg(lambda x: \", \".join(x))\n",
    "print(toronto_df.shape)\n",
    "toronto_df.head()"
   ]
  },
  {
   "cell_type": "markdown",
   "metadata": {},
   "source": [
    "## for unassigned neighborhoods change value to Borough"
   ]
  },
  {
   "cell_type": "code",
   "execution_count": 29,
   "metadata": {},
   "outputs": [
    {
     "data": {
      "text/html": [
       "<div>\n",
       "<style scoped>\n",
       "    .dataframe tbody tr th:only-of-type {\n",
       "        vertical-align: middle;\n",
       "    }\n",
       "\n",
       "    .dataframe tbody tr th {\n",
       "        vertical-align: top;\n",
       "    }\n",
       "\n",
       "    .dataframe thead th {\n",
       "        text-align: right;\n",
       "    }\n",
       "</style>\n",
       "<table border=\"1\" class=\"dataframe\">\n",
       "  <thead>\n",
       "    <tr style=\"text-align: right;\">\n",
       "      <th></th>\n",
       "      <th>PostalCode</th>\n",
       "      <th>Borough</th>\n",
       "      <th>Neighborhood</th>\n",
       "    </tr>\n",
       "  </thead>\n",
       "  <tbody>\n",
       "    <tr>\n",
       "      <th>0</th>\n",
       "      <td>M1B</td>\n",
       "      <td>Scarborough</td>\n",
       "      <td>Malvern, Rouge</td>\n",
       "    </tr>\n",
       "    <tr>\n",
       "      <th>1</th>\n",
       "      <td>M1C</td>\n",
       "      <td>Scarborough</td>\n",
       "      <td>Rouge Hill, Port Union, Highland Creek</td>\n",
       "    </tr>\n",
       "    <tr>\n",
       "      <th>2</th>\n",
       "      <td>M1E</td>\n",
       "      <td>Scarborough</td>\n",
       "      <td>Guildwood, Morningside, West Hill</td>\n",
       "    </tr>\n",
       "    <tr>\n",
       "      <th>3</th>\n",
       "      <td>M1G</td>\n",
       "      <td>Scarborough</td>\n",
       "      <td>Woburn</td>\n",
       "    </tr>\n",
       "    <tr>\n",
       "      <th>4</th>\n",
       "      <td>M1H</td>\n",
       "      <td>Scarborough</td>\n",
       "      <td>Cedarbrae</td>\n",
       "    </tr>\n",
       "  </tbody>\n",
       "</table>\n",
       "</div>"
      ],
      "text/plain": [
       "  PostalCode      Borough                            Neighborhood\n",
       "0        M1B  Scarborough                          Malvern, Rouge\n",
       "1        M1C  Scarborough  Rouge Hill, Port Union, Highland Creek\n",
       "2        M1E  Scarborough       Guildwood, Morningside, West Hill\n",
       "3        M1G  Scarborough                                  Woburn\n",
       "4        M1H  Scarborough                               Cedarbrae"
      ]
     },
     "execution_count": 29,
     "metadata": {},
     "output_type": "execute_result"
    }
   ],
   "source": [
    "for index, row in toronto_df.iterrows():\n",
    "    if row['Neighborhood'] == 'Not assigned':\n",
    "        row['Neighborhood'] == row['Borough']\n",
    "toronto_df.head()"
   ]
  },
  {
   "cell_type": "markdown",
   "metadata": {},
   "source": [
    "## Verify according to the dataframe image in the question."
   ]
  },
  {
   "cell_type": "code",
   "execution_count": 30,
   "metadata": {},
   "outputs": [
    {
     "data": {
      "text/html": [
       "<div>\n",
       "<style scoped>\n",
       "    .dataframe tbody tr th:only-of-type {\n",
       "        vertical-align: middle;\n",
       "    }\n",
       "\n",
       "    .dataframe tbody tr th {\n",
       "        vertical-align: top;\n",
       "    }\n",
       "\n",
       "    .dataframe thead th {\n",
       "        text-align: right;\n",
       "    }\n",
       "</style>\n",
       "<table border=\"1\" class=\"dataframe\">\n",
       "  <thead>\n",
       "    <tr style=\"text-align: right;\">\n",
       "      <th></th>\n",
       "      <th>PostalCode</th>\n",
       "      <th>Borough</th>\n",
       "      <th>Neighborhood</th>\n",
       "    </tr>\n",
       "  </thead>\n",
       "  <tbody>\n",
       "    <tr>\n",
       "      <th>0</th>\n",
       "      <td>M5G</td>\n",
       "      <td>Downtown Toronto</td>\n",
       "      <td>Central Bay Street</td>\n",
       "    </tr>\n",
       "    <tr>\n",
       "      <th>1</th>\n",
       "      <td>M2H</td>\n",
       "      <td>North York</td>\n",
       "      <td>Hillcrest Village</td>\n",
       "    </tr>\n",
       "    <tr>\n",
       "      <th>2</th>\n",
       "      <td>M4B</td>\n",
       "      <td>East York</td>\n",
       "      <td>Parkview Hill, Woodbine Gardens</td>\n",
       "    </tr>\n",
       "    <tr>\n",
       "      <th>3</th>\n",
       "      <td>M1J</td>\n",
       "      <td>Scarborough</td>\n",
       "      <td>Scarborough Village</td>\n",
       "    </tr>\n",
       "    <tr>\n",
       "      <th>4</th>\n",
       "      <td>M4G</td>\n",
       "      <td>East York</td>\n",
       "      <td>Leaside</td>\n",
       "    </tr>\n",
       "    <tr>\n",
       "      <th>5</th>\n",
       "      <td>M4M</td>\n",
       "      <td>East Toronto</td>\n",
       "      <td>Studio District</td>\n",
       "    </tr>\n",
       "    <tr>\n",
       "      <th>6</th>\n",
       "      <td>M1R</td>\n",
       "      <td>Scarborough</td>\n",
       "      <td>Wexford, Maryvale</td>\n",
       "    </tr>\n",
       "    <tr>\n",
       "      <th>7</th>\n",
       "      <td>M9V</td>\n",
       "      <td>Etobicoke</td>\n",
       "      <td>South Steeles, Silverstone, Humbergate, Jamest...</td>\n",
       "    </tr>\n",
       "    <tr>\n",
       "      <th>8</th>\n",
       "      <td>M9L</td>\n",
       "      <td>North York</td>\n",
       "      <td>Humber Summit</td>\n",
       "    </tr>\n",
       "    <tr>\n",
       "      <th>9</th>\n",
       "      <td>M5V</td>\n",
       "      <td>Downtown Toronto</td>\n",
       "      <td>CN Tower, King and Spadina, Railway Lands, Har...</td>\n",
       "    </tr>\n",
       "    <tr>\n",
       "      <th>10</th>\n",
       "      <td>M1B</td>\n",
       "      <td>Scarborough</td>\n",
       "      <td>Malvern, Rouge</td>\n",
       "    </tr>\n",
       "    <tr>\n",
       "      <th>11</th>\n",
       "      <td>M5A</td>\n",
       "      <td>Downtown Toronto</td>\n",
       "      <td>Regent Park, Harbourfront</td>\n",
       "    </tr>\n",
       "  </tbody>\n",
       "</table>\n",
       "</div>"
      ],
      "text/plain": [
       "   PostalCode           Borough  \\\n",
       "0         M5G  Downtown Toronto   \n",
       "1         M2H        North York   \n",
       "2         M4B         East York   \n",
       "3         M1J       Scarborough   \n",
       "4         M4G         East York   \n",
       "5         M4M      East Toronto   \n",
       "6         M1R       Scarborough   \n",
       "7         M9V         Etobicoke   \n",
       "8         M9L        North York   \n",
       "9         M5V  Downtown Toronto   \n",
       "10        M1B       Scarborough   \n",
       "11        M5A  Downtown Toronto   \n",
       "\n",
       "                                         Neighborhood  \n",
       "0                                  Central Bay Street  \n",
       "1                                   Hillcrest Village  \n",
       "2                     Parkview Hill, Woodbine Gardens  \n",
       "3                                 Scarborough Village  \n",
       "4                                             Leaside  \n",
       "5                                     Studio District  \n",
       "6                                   Wexford, Maryvale  \n",
       "7   South Steeles, Silverstone, Humbergate, Jamest...  \n",
       "8                                       Humber Summit  \n",
       "9   CN Tower, King and Spadina, Railway Lands, Har...  \n",
       "10                                     Malvern, Rouge  \n",
       "11                          Regent Park, Harbourfront  "
      ]
     },
     "execution_count": 30,
     "metadata": {},
     "output_type": "execute_result"
    }
   ],
   "source": [
    "cols = ['PostalCode', 'Borough', 'Neighborhood']\n",
    "test_df = pd.DataFrame(columns = cols)\n",
    "\n",
    "test_list = ['M5G', 'M2H', 'M4B', 'M1J', 'M4G', 'M4M', 'M1R', 'M9V', 'M9L', 'M5V', 'M1B', 'M5A']\n",
    "\n",
    "for postalcode in test_list:\n",
    "    test_df = test_df.append(toronto_df[toronto_df['PostalCode'] == postalcode], ignore_index = True)\n",
    "test_df"
   ]
  },
  {
   "cell_type": "markdown",
   "metadata": {},
   "source": [
    "## Finally, print shape of the dataframe"
   ]
  },
  {
   "cell_type": "code",
   "execution_count": 31,
   "metadata": {},
   "outputs": [
    {
     "data": {
      "text/plain": [
       "(103, 3)"
      ]
     },
     "execution_count": 31,
     "metadata": {},
     "output_type": "execute_result"
    }
   ],
   "source": [
    "toronto_df.shape"
   ]
  },
  {
   "cell_type": "markdown",
   "metadata": {},
   "source": [
    "# Part 2"
   ]
  },
  {
   "cell_type": "markdown",
   "metadata": {},
   "source": [
    "## load location coordinates from coursera"
   ]
  },
  {
   "cell_type": "code",
   "execution_count": 34,
   "metadata": {},
   "outputs": [
    {
     "data": {
      "text/html": [
       "<div>\n",
       "<style scoped>\n",
       "    .dataframe tbody tr th:only-of-type {\n",
       "        vertical-align: middle;\n",
       "    }\n",
       "\n",
       "    .dataframe tbody tr th {\n",
       "        vertical-align: top;\n",
       "    }\n",
       "\n",
       "    .dataframe thead th {\n",
       "        text-align: right;\n",
       "    }\n",
       "</style>\n",
       "<table border=\"1\" class=\"dataframe\">\n",
       "  <thead>\n",
       "    <tr style=\"text-align: right;\">\n",
       "      <th></th>\n",
       "      <th>Postal Code</th>\n",
       "      <th>Latitude</th>\n",
       "      <th>Longitude</th>\n",
       "    </tr>\n",
       "  </thead>\n",
       "  <tbody>\n",
       "    <tr>\n",
       "      <th>0</th>\n",
       "      <td>M1B</td>\n",
       "      <td>43.806686</td>\n",
       "      <td>-79.194353</td>\n",
       "    </tr>\n",
       "    <tr>\n",
       "      <th>1</th>\n",
       "      <td>M1C</td>\n",
       "      <td>43.784535</td>\n",
       "      <td>-79.160497</td>\n",
       "    </tr>\n",
       "    <tr>\n",
       "      <th>2</th>\n",
       "      <td>M1E</td>\n",
       "      <td>43.763573</td>\n",
       "      <td>-79.188711</td>\n",
       "    </tr>\n",
       "    <tr>\n",
       "      <th>3</th>\n",
       "      <td>M1G</td>\n",
       "      <td>43.770992</td>\n",
       "      <td>-79.216917</td>\n",
       "    </tr>\n",
       "    <tr>\n",
       "      <th>4</th>\n",
       "      <td>M1H</td>\n",
       "      <td>43.773136</td>\n",
       "      <td>-79.239476</td>\n",
       "    </tr>\n",
       "  </tbody>\n",
       "</table>\n",
       "</div>"
      ],
      "text/plain": [
       "  Postal Code   Latitude  Longitude\n",
       "0         M1B  43.806686 -79.194353\n",
       "1         M1C  43.784535 -79.160497\n",
       "2         M1E  43.763573 -79.188711\n",
       "3         M1G  43.770992 -79.216917\n",
       "4         M1H  43.773136 -79.239476"
      ]
     },
     "execution_count": 34,
     "metadata": {},
     "output_type": "execute_result"
    }
   ],
   "source": [
    "coordinates = pd.read_csv('https://cocl.us/Geospatial_data')\n",
    "coordinates.head()"
   ]
  },
  {
   "cell_type": "code",
   "execution_count": 35,
   "metadata": {},
   "outputs": [
    {
     "data": {
      "text/html": [
       "<div>\n",
       "<style scoped>\n",
       "    .dataframe tbody tr th:only-of-type {\n",
       "        vertical-align: middle;\n",
       "    }\n",
       "\n",
       "    .dataframe tbody tr th {\n",
       "        vertical-align: top;\n",
       "    }\n",
       "\n",
       "    .dataframe thead th {\n",
       "        text-align: right;\n",
       "    }\n",
       "</style>\n",
       "<table border=\"1\" class=\"dataframe\">\n",
       "  <thead>\n",
       "    <tr style=\"text-align: right;\">\n",
       "      <th></th>\n",
       "      <th>PostalCode</th>\n",
       "      <th>Latitude</th>\n",
       "      <th>Longitude</th>\n",
       "    </tr>\n",
       "  </thead>\n",
       "  <tbody>\n",
       "    <tr>\n",
       "      <th>0</th>\n",
       "      <td>M1B</td>\n",
       "      <td>43.806686</td>\n",
       "      <td>-79.194353</td>\n",
       "    </tr>\n",
       "    <tr>\n",
       "      <th>1</th>\n",
       "      <td>M1C</td>\n",
       "      <td>43.784535</td>\n",
       "      <td>-79.160497</td>\n",
       "    </tr>\n",
       "    <tr>\n",
       "      <th>2</th>\n",
       "      <td>M1E</td>\n",
       "      <td>43.763573</td>\n",
       "      <td>-79.188711</td>\n",
       "    </tr>\n",
       "    <tr>\n",
       "      <th>3</th>\n",
       "      <td>M1G</td>\n",
       "      <td>43.770992</td>\n",
       "      <td>-79.216917</td>\n",
       "    </tr>\n",
       "    <tr>\n",
       "      <th>4</th>\n",
       "      <td>M1H</td>\n",
       "      <td>43.773136</td>\n",
       "      <td>-79.239476</td>\n",
       "    </tr>\n",
       "  </tbody>\n",
       "</table>\n",
       "</div>"
      ],
      "text/plain": [
       "  PostalCode   Latitude  Longitude\n",
       "0        M1B  43.806686 -79.194353\n",
       "1        M1C  43.784535 -79.160497\n",
       "2        M1E  43.763573 -79.188711\n",
       "3        M1G  43.770992 -79.216917\n",
       "4        M1H  43.773136 -79.239476"
      ]
     },
     "execution_count": 35,
     "metadata": {},
     "output_type": "execute_result"
    }
   ],
   "source": [
    "coordinates.rename(columns = {'Postal Code': 'PostalCode'}, inplace = True)\n",
    "coordinates.head()"
   ]
  },
  {
   "cell_type": "markdown",
   "metadata": {},
   "source": [
    "## Merge coordinates and toronto_df"
   ]
  },
  {
   "cell_type": "code",
   "execution_count": 36,
   "metadata": {},
   "outputs": [
    {
     "data": {
      "text/html": [
       "<div>\n",
       "<style scoped>\n",
       "    .dataframe tbody tr th:only-of-type {\n",
       "        vertical-align: middle;\n",
       "    }\n",
       "\n",
       "    .dataframe tbody tr th {\n",
       "        vertical-align: top;\n",
       "    }\n",
       "\n",
       "    .dataframe thead th {\n",
       "        text-align: right;\n",
       "    }\n",
       "</style>\n",
       "<table border=\"1\" class=\"dataframe\">\n",
       "  <thead>\n",
       "    <tr style=\"text-align: right;\">\n",
       "      <th></th>\n",
       "      <th>PostalCode</th>\n",
       "      <th>Borough</th>\n",
       "      <th>Neighborhood</th>\n",
       "      <th>Latitude</th>\n",
       "      <th>Longitude</th>\n",
       "    </tr>\n",
       "  </thead>\n",
       "  <tbody>\n",
       "    <tr>\n",
       "      <th>0</th>\n",
       "      <td>M1B</td>\n",
       "      <td>Scarborough</td>\n",
       "      <td>Malvern, Rouge</td>\n",
       "      <td>43.806686</td>\n",
       "      <td>-79.194353</td>\n",
       "    </tr>\n",
       "    <tr>\n",
       "      <th>1</th>\n",
       "      <td>M1C</td>\n",
       "      <td>Scarborough</td>\n",
       "      <td>Rouge Hill, Port Union, Highland Creek</td>\n",
       "      <td>43.784535</td>\n",
       "      <td>-79.160497</td>\n",
       "    </tr>\n",
       "    <tr>\n",
       "      <th>2</th>\n",
       "      <td>M1E</td>\n",
       "      <td>Scarborough</td>\n",
       "      <td>Guildwood, Morningside, West Hill</td>\n",
       "      <td>43.763573</td>\n",
       "      <td>-79.188711</td>\n",
       "    </tr>\n",
       "    <tr>\n",
       "      <th>3</th>\n",
       "      <td>M1G</td>\n",
       "      <td>Scarborough</td>\n",
       "      <td>Woburn</td>\n",
       "      <td>43.770992</td>\n",
       "      <td>-79.216917</td>\n",
       "    </tr>\n",
       "    <tr>\n",
       "      <th>4</th>\n",
       "      <td>M1H</td>\n",
       "      <td>Scarborough</td>\n",
       "      <td>Cedarbrae</td>\n",
       "      <td>43.773136</td>\n",
       "      <td>-79.239476</td>\n",
       "    </tr>\n",
       "  </tbody>\n",
       "</table>\n",
       "</div>"
      ],
      "text/plain": [
       "  PostalCode      Borough                            Neighborhood   Latitude  \\\n",
       "0        M1B  Scarborough                          Malvern, Rouge  43.806686   \n",
       "1        M1C  Scarborough  Rouge Hill, Port Union, Highland Creek  43.784535   \n",
       "2        M1E  Scarborough       Guildwood, Morningside, West Hill  43.763573   \n",
       "3        M1G  Scarborough                                  Woburn  43.770992   \n",
       "4        M1H  Scarborough                               Cedarbrae  43.773136   \n",
       "\n",
       "   Longitude  \n",
       "0 -79.194353  \n",
       "1 -79.160497  \n",
       "2 -79.188711  \n",
       "3 -79.216917  \n",
       "4 -79.239476  "
      ]
     },
     "execution_count": 36,
     "metadata": {},
     "output_type": "execute_result"
    }
   ],
   "source": [
    "final_df = toronto_df.merge(coordinates, on = \"PostalCode\", how = \"left\")\n",
    "final_df.head()"
   ]
  },
  {
   "cell_type": "markdown",
   "metadata": {},
   "source": [
    "## Creating output as shown on submission page"
   ]
  },
  {
   "cell_type": "code",
   "execution_count": 37,
   "metadata": {},
   "outputs": [
    {
     "data": {
      "text/html": [
       "<div>\n",
       "<style scoped>\n",
       "    .dataframe tbody tr th:only-of-type {\n",
       "        vertical-align: middle;\n",
       "    }\n",
       "\n",
       "    .dataframe tbody tr th {\n",
       "        vertical-align: top;\n",
       "    }\n",
       "\n",
       "    .dataframe thead th {\n",
       "        text-align: right;\n",
       "    }\n",
       "</style>\n",
       "<table border=\"1\" class=\"dataframe\">\n",
       "  <thead>\n",
       "    <tr style=\"text-align: right;\">\n",
       "      <th></th>\n",
       "      <th>PostalCode</th>\n",
       "      <th>Borough</th>\n",
       "      <th>Neighborhood</th>\n",
       "      <th>Latitude</th>\n",
       "      <th>Longitude</th>\n",
       "    </tr>\n",
       "  </thead>\n",
       "  <tbody>\n",
       "    <tr>\n",
       "      <th>0</th>\n",
       "      <td>M5G</td>\n",
       "      <td>Downtown Toronto</td>\n",
       "      <td>Central Bay Street</td>\n",
       "      <td>43.657952</td>\n",
       "      <td>-79.387383</td>\n",
       "    </tr>\n",
       "    <tr>\n",
       "      <th>1</th>\n",
       "      <td>M2H</td>\n",
       "      <td>North York</td>\n",
       "      <td>Hillcrest Village</td>\n",
       "      <td>43.803762</td>\n",
       "      <td>-79.363452</td>\n",
       "    </tr>\n",
       "    <tr>\n",
       "      <th>2</th>\n",
       "      <td>M4B</td>\n",
       "      <td>East York</td>\n",
       "      <td>Parkview Hill, Woodbine Gardens</td>\n",
       "      <td>43.706397</td>\n",
       "      <td>-79.309937</td>\n",
       "    </tr>\n",
       "    <tr>\n",
       "      <th>3</th>\n",
       "      <td>M1J</td>\n",
       "      <td>Scarborough</td>\n",
       "      <td>Scarborough Village</td>\n",
       "      <td>43.744734</td>\n",
       "      <td>-79.239476</td>\n",
       "    </tr>\n",
       "    <tr>\n",
       "      <th>4</th>\n",
       "      <td>M4G</td>\n",
       "      <td>East York</td>\n",
       "      <td>Leaside</td>\n",
       "      <td>43.709060</td>\n",
       "      <td>-79.363452</td>\n",
       "    </tr>\n",
       "    <tr>\n",
       "      <th>5</th>\n",
       "      <td>M4M</td>\n",
       "      <td>East Toronto</td>\n",
       "      <td>Studio District</td>\n",
       "      <td>43.659526</td>\n",
       "      <td>-79.340923</td>\n",
       "    </tr>\n",
       "    <tr>\n",
       "      <th>6</th>\n",
       "      <td>M1R</td>\n",
       "      <td>Scarborough</td>\n",
       "      <td>Wexford, Maryvale</td>\n",
       "      <td>43.750072</td>\n",
       "      <td>-79.295849</td>\n",
       "    </tr>\n",
       "    <tr>\n",
       "      <th>7</th>\n",
       "      <td>M9V</td>\n",
       "      <td>Etobicoke</td>\n",
       "      <td>South Steeles, Silverstone, Humbergate, Jamest...</td>\n",
       "      <td>43.739416</td>\n",
       "      <td>-79.588437</td>\n",
       "    </tr>\n",
       "    <tr>\n",
       "      <th>8</th>\n",
       "      <td>M9L</td>\n",
       "      <td>North York</td>\n",
       "      <td>Humber Summit</td>\n",
       "      <td>43.756303</td>\n",
       "      <td>-79.565963</td>\n",
       "    </tr>\n",
       "    <tr>\n",
       "      <th>9</th>\n",
       "      <td>M5V</td>\n",
       "      <td>Downtown Toronto</td>\n",
       "      <td>CN Tower, King and Spadina, Railway Lands, Har...</td>\n",
       "      <td>43.628947</td>\n",
       "      <td>-79.394420</td>\n",
       "    </tr>\n",
       "    <tr>\n",
       "      <th>10</th>\n",
       "      <td>M1B</td>\n",
       "      <td>Scarborough</td>\n",
       "      <td>Malvern, Rouge</td>\n",
       "      <td>43.806686</td>\n",
       "      <td>-79.194353</td>\n",
       "    </tr>\n",
       "    <tr>\n",
       "      <th>11</th>\n",
       "      <td>M5A</td>\n",
       "      <td>Downtown Toronto</td>\n",
       "      <td>Regent Park, Harbourfront</td>\n",
       "      <td>43.654260</td>\n",
       "      <td>-79.360636</td>\n",
       "    </tr>\n",
       "  </tbody>\n",
       "</table>\n",
       "</div>"
      ],
      "text/plain": [
       "   PostalCode           Borough  \\\n",
       "0         M5G  Downtown Toronto   \n",
       "1         M2H        North York   \n",
       "2         M4B         East York   \n",
       "3         M1J       Scarborough   \n",
       "4         M4G         East York   \n",
       "5         M4M      East Toronto   \n",
       "6         M1R       Scarborough   \n",
       "7         M9V         Etobicoke   \n",
       "8         M9L        North York   \n",
       "9         M5V  Downtown Toronto   \n",
       "10        M1B       Scarborough   \n",
       "11        M5A  Downtown Toronto   \n",
       "\n",
       "                                         Neighborhood   Latitude  Longitude  \n",
       "0                                  Central Bay Street  43.657952 -79.387383  \n",
       "1                                   Hillcrest Village  43.803762 -79.363452  \n",
       "2                     Parkview Hill, Woodbine Gardens  43.706397 -79.309937  \n",
       "3                                 Scarborough Village  43.744734 -79.239476  \n",
       "4                                             Leaside  43.709060 -79.363452  \n",
       "5                                     Studio District  43.659526 -79.340923  \n",
       "6                                   Wexford, Maryvale  43.750072 -79.295849  \n",
       "7   South Steeles, Silverstone, Humbergate, Jamest...  43.739416 -79.588437  \n",
       "8                                       Humber Summit  43.756303 -79.565963  \n",
       "9   CN Tower, King and Spadina, Railway Lands, Har...  43.628947 -79.394420  \n",
       "10                                     Malvern, Rouge  43.806686 -79.194353  \n",
       "11                          Regent Park, Harbourfront  43.654260 -79.360636  "
      ]
     },
     "execution_count": 37,
     "metadata": {},
     "output_type": "execute_result"
    }
   ],
   "source": [
    "cols = ['PostalCode', 'Borough', 'Neighborhood']\n",
    "test_df = pd.DataFrame(columns = cols)\n",
    "\n",
    "test_list = ['M5G', 'M2H', 'M4B', 'M1J', 'M4G', 'M4M', 'M1R', 'M9V', 'M9L', 'M5V', 'M1B', 'M5A']\n",
    "\n",
    "for postalcode in test_list:\n",
    "    test_df = test_df.append(final_df[final_df['PostalCode'] == postalcode], ignore_index = True)\n",
    "test_df"
   ]
  },
  {
   "cell_type": "markdown",
   "metadata": {},
   "source": [
    "# Part 3"
   ]
  },
  {
   "cell_type": "markdown",
   "metadata": {},
   "source": [
    "## using geopy to get LAT & LONG of Toronto"
   ]
  },
  {
   "cell_type": "code",
   "execution_count": 38,
   "metadata": {},
   "outputs": [
    {
     "name": "stdout",
     "output_type": "stream",
     "text": [
      "Toronto coordinates : 43.6534817, -79.3839347\n"
     ]
    }
   ],
   "source": [
    "address = 'Toronto'\n",
    "geolocator = Nominatim(user_agent = 'lol-app') # for the purpose of assignment; give any name to user_agent\n",
    "location= geolocator.geocode(address)\n",
    "latitude = location.latitude\n",
    "longitude = location.longitude\n",
    "print(\"Toronto coordinates : {}, {}\".format(latitude, longitude))"
   ]
  },
  {
   "cell_type": "markdown",
   "metadata": {},
   "source": [
    "## Create a map of Toronto"
   ]
  },
  {
   "cell_type": "code",
   "execution_count": 50,
   "metadata": {
    "scrolled": true
   },
   "outputs": [
    {
     "data": {
      "text/html": [
       "<div style=\"width:100%;\"><div style=\"position:relative;width:100%;height:0;padding-bottom:60%;\"><span style=\"color:#565656\">Make this Notebook Trusted to load map: File -> Trust Notebook</span><iframe src=\"about:blank\" style=\"position:absolute;width:100%;height:100%;left:0;top:0;border:none !important;\" data-html=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 onload=\"this.contentDocument.open();this.contentDocument.write(atob(this.getAttribute('data-html')));this.contentDocument.close();\" allowfullscreen webkitallowfullscreen mozallowfullscreen></iframe></div></div>"
      ],
      "text/plain": [
       "<folium.folium.Map at 0x231785fae48>"
      ]
     },
     "execution_count": 50,
     "metadata": {},
     "output_type": "execute_result"
    }
   ],
   "source": [
    "map_toronto = folium.Map(location = [latitude, longitude], zoom_start = 10.3) #creates map\n",
    "#add markers to map\n",
    "\n",
    "for lat, long, borough, neighborhood in zip(final_df['Latitude'], final_df['Longitude'], final_df['Borough'], final_df['Neighborhood']):\n",
    "    label = '{}, {}'.format(neighborhood, borough)\n",
    "    label = folium.Popup(label, parse_html = True)\n",
    "    folium.CircleMarker(\n",
    "        [lat, long],\n",
    "        radius = 5,\n",
    "        popup = label,\n",
    "        color = 'blue',\n",
    "        fill = True,\n",
    "        fill_color = '#3186cc',\n",
    "        fill_opacity=0.7\n",
    "    ).add_to(map_toronto)\n",
    "    \n",
    "map_toronto"
   ]
  },
  {
   "cell_type": "markdown",
   "metadata": {},
   "source": [
    "## create a dataframe of boroughs having the word 'Toronto'"
   ]
  },
  {
   "cell_type": "code",
   "execution_count": 72,
   "metadata": {},
   "outputs": [
    {
     "name": "stdout",
     "output_type": "stream",
     "text": [
      "(39, 5)\n"
     ]
    },
    {
     "data": {
      "text/html": [
       "<div>\n",
       "<style scoped>\n",
       "    .dataframe tbody tr th:only-of-type {\n",
       "        vertical-align: middle;\n",
       "    }\n",
       "\n",
       "    .dataframe tbody tr th {\n",
       "        vertical-align: top;\n",
       "    }\n",
       "\n",
       "    .dataframe thead th {\n",
       "        text-align: right;\n",
       "    }\n",
       "</style>\n",
       "<table border=\"1\" class=\"dataframe\">\n",
       "  <thead>\n",
       "    <tr style=\"text-align: right;\">\n",
       "      <th></th>\n",
       "      <th>PostalCode</th>\n",
       "      <th>Borough</th>\n",
       "      <th>Neighborhood</th>\n",
       "      <th>Latitude</th>\n",
       "      <th>Longitude</th>\n",
       "    </tr>\n",
       "  </thead>\n",
       "  <tbody>\n",
       "    <tr>\n",
       "      <th>0</th>\n",
       "      <td>M4E</td>\n",
       "      <td>East Toronto</td>\n",
       "      <td>The Beaches</td>\n",
       "      <td>43.676357</td>\n",
       "      <td>-79.293031</td>\n",
       "    </tr>\n",
       "    <tr>\n",
       "      <th>1</th>\n",
       "      <td>M4K</td>\n",
       "      <td>East Toronto</td>\n",
       "      <td>The Danforth West, Riverdale</td>\n",
       "      <td>43.679557</td>\n",
       "      <td>-79.352188</td>\n",
       "    </tr>\n",
       "    <tr>\n",
       "      <th>2</th>\n",
       "      <td>M4L</td>\n",
       "      <td>East Toronto</td>\n",
       "      <td>India Bazaar, The Beaches West</td>\n",
       "      <td>43.668999</td>\n",
       "      <td>-79.315572</td>\n",
       "    </tr>\n",
       "    <tr>\n",
       "      <th>3</th>\n",
       "      <td>M4M</td>\n",
       "      <td>East Toronto</td>\n",
       "      <td>Studio District</td>\n",
       "      <td>43.659526</td>\n",
       "      <td>-79.340923</td>\n",
       "    </tr>\n",
       "    <tr>\n",
       "      <th>4</th>\n",
       "      <td>M4N</td>\n",
       "      <td>Central Toronto</td>\n",
       "      <td>Lawrence Park</td>\n",
       "      <td>43.728020</td>\n",
       "      <td>-79.388790</td>\n",
       "    </tr>\n",
       "  </tbody>\n",
       "</table>\n",
       "</div>"
      ],
      "text/plain": [
       "  PostalCode          Borough                    Neighborhood   Latitude  \\\n",
       "0        M4E     East Toronto                     The Beaches  43.676357   \n",
       "1        M4K     East Toronto    The Danforth West, Riverdale  43.679557   \n",
       "2        M4L     East Toronto  India Bazaar, The Beaches West  43.668999   \n",
       "3        M4M     East Toronto                 Studio District  43.659526   \n",
       "4        M4N  Central Toronto                   Lawrence Park  43.728020   \n",
       "\n",
       "   Longitude  \n",
       "0 -79.293031  \n",
       "1 -79.352188  \n",
       "2 -79.315572  \n",
       "3 -79.340923  \n",
       "4 -79.388790  "
      ]
     },
     "execution_count": 72,
     "metadata": {},
     "output_type": "execute_result"
    }
   ],
   "source": [
    "borough_names = list(final_df.Borough.unique())\n",
    "boroughs_with_toronto = []\n",
    "for i in borough_names:\n",
    "    if 'toronto' in i.lower():\n",
    "        boroughs_with_toronto.append(i)\n",
    "#create a new df\n",
    "toronto_df_new = final_df[final_df['Borough'].isin(boroughs_with_toronto)].reset_index(drop = True)\n",
    "print(toronto_df_new.shape)\n",
    "toronto_df_new.head()"
   ]
  },
  {
   "cell_type": "code",
   "execution_count": 73,
   "metadata": {},
   "outputs": [
    {
     "data": {
      "text/html": [
       "<div style=\"width:100%;\"><div style=\"position:relative;width:100%;height:0;padding-bottom:60%;\"><span style=\"color:#565656\">Make this Notebook Trusted to load map: File -> Trust Notebook</span><iframe src=\"about:blank\" style=\"position:absolute;width:100%;height:100%;left:0;top:0;border:none !important;\" data-html=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 onload=\"this.contentDocument.open();this.contentDocument.write(atob(this.getAttribute('data-html')));this.contentDocument.close();\" allowfullscreen webkitallowfullscreen mozallowfullscreen></iframe></div></div>"
      ],
      "text/plain": [
       "<folium.folium.Map at 0x2317869a588>"
      ]
     },
     "execution_count": 73,
     "metadata": {},
     "output_type": "execute_result"
    }
   ],
   "source": [
    "map_toronto1 = folium.Map(location = [latitude, longitude], zoom_start = 10.3) #creates map\n",
    "#add markers to map\n",
    "\n",
    "for lat, long, borough, neighborhood in zip(df_new_toronto['Latitude'], df_new_toronto['Longitude'], df_new_toronto['Borough'], df_new_toronto['Neighborhood']):\n",
    "    label = '{}, {}'.format(neighborhood, borough)\n",
    "    label = folium.Popup(label, parse_html = True)\n",
    "    folium.CircleMarker(\n",
    "        [lat, long],\n",
    "        radius = 5,\n",
    "        popup = label,\n",
    "        color = 'blue',\n",
    "        fill = True,\n",
    "        fill_color = '#3186cc',\n",
    "        fill_opacity=0.7\n",
    "    ).add_to(map_toronto1)\n",
    "    \n",
    "map_toronto1"
   ]
  },
  {
   "cell_type": "markdown",
   "metadata": {},
   "source": [
    "## Using FourSquare API to explore neighborhoods"
   ]
  },
  {
   "cell_type": "code",
   "execution_count": 74,
   "metadata": {},
   "outputs": [],
   "source": [
    "# @hidden_cell\n",
    "\n",
    "CLIENT_ID = '4OJ2FUPCP0Z2FXECSBCN0AWBFWKIFIIAV3TCWWD3LST2TEHP'\n",
    "CLIENT_SECRET = 'CKU0YUOGV3RSK331NVFUQPF0SWXDIMXU1N4FSITMFVB5V2DB'\n",
    "VERSION = '20180604'"
   ]
  },
  {
   "cell_type": "markdown",
   "metadata": {},
   "source": [
    "## Getting top 100 venues that are within a radius of 500 mts"
   ]
  },
  {
   "cell_type": "code",
   "execution_count": 75,
   "metadata": {},
   "outputs": [],
   "source": [
    "radius = 500\n",
    "LIMIT = 100\n",
    "\n",
    "venues = []\n",
    "\n",
    "for lat, long, post, borough, neighborhood in zip(toronto_df_new['Latitude'], toronto_df_new['Longitude'], toronto_df_new['PostalCode'], toronto_df_new['Borough'], toronto_df_new['Neighborhood']):\n",
    "    url = \"https://api.foursquare.com/v2/venues/explore?client_id={}&client_secret={}&v={}&ll={},{}&radius={}&limit={}\".format(\n",
    "        CLIENT_ID,\n",
    "        CLIENT_SECRET,\n",
    "        VERSION,\n",
    "        lat,\n",
    "        long,\n",
    "        radius, \n",
    "        LIMIT)\n",
    "    \n",
    "    results = requests.get(url).json()[\"response\"]['groups'][0]['items']\n",
    "    \n",
    "    for venue in results:\n",
    "        venues.append((\n",
    "            post, \n",
    "            borough,\n",
    "            neighborhood,\n",
    "            lat, \n",
    "            long, \n",
    "            venue['venue']['name'], \n",
    "            venue['venue']['location']['lat'], \n",
    "            venue['venue']['location']['lng'],  \n",
    "            venue['venue']['categories'][0]['name']))"
   ]
  },
  {
   "cell_type": "code",
   "execution_count": 76,
   "metadata": {},
   "outputs": [
    {
     "name": "stdout",
     "output_type": "stream",
     "text": [
      "(1622, 9)\n"
     ]
    },
    {
     "data": {
      "text/html": [
       "<div>\n",
       "<style scoped>\n",
       "    .dataframe tbody tr th:only-of-type {\n",
       "        vertical-align: middle;\n",
       "    }\n",
       "\n",
       "    .dataframe tbody tr th {\n",
       "        vertical-align: top;\n",
       "    }\n",
       "\n",
       "    .dataframe thead th {\n",
       "        text-align: right;\n",
       "    }\n",
       "</style>\n",
       "<table border=\"1\" class=\"dataframe\">\n",
       "  <thead>\n",
       "    <tr style=\"text-align: right;\">\n",
       "      <th></th>\n",
       "      <th>PostalCode</th>\n",
       "      <th>Borough</th>\n",
       "      <th>Neighborhood</th>\n",
       "      <th>BoroughLatitude</th>\n",
       "      <th>BoroughLongitude</th>\n",
       "      <th>VenueName</th>\n",
       "      <th>VenueLatitude</th>\n",
       "      <th>VenueLongitude</th>\n",
       "      <th>VenueCategory</th>\n",
       "    </tr>\n",
       "  </thead>\n",
       "  <tbody>\n",
       "    <tr>\n",
       "      <th>0</th>\n",
       "      <td>M4E</td>\n",
       "      <td>East Toronto</td>\n",
       "      <td>The Beaches</td>\n",
       "      <td>43.676357</td>\n",
       "      <td>-79.293031</td>\n",
       "      <td>Glen Manor Ravine</td>\n",
       "      <td>43.676821</td>\n",
       "      <td>-79.293942</td>\n",
       "      <td>Trail</td>\n",
       "    </tr>\n",
       "    <tr>\n",
       "      <th>1</th>\n",
       "      <td>M4E</td>\n",
       "      <td>East Toronto</td>\n",
       "      <td>The Beaches</td>\n",
       "      <td>43.676357</td>\n",
       "      <td>-79.293031</td>\n",
       "      <td>The Big Carrot Natural Food Market</td>\n",
       "      <td>43.678879</td>\n",
       "      <td>-79.297734</td>\n",
       "      <td>Health Food Store</td>\n",
       "    </tr>\n",
       "    <tr>\n",
       "      <th>2</th>\n",
       "      <td>M4E</td>\n",
       "      <td>East Toronto</td>\n",
       "      <td>The Beaches</td>\n",
       "      <td>43.676357</td>\n",
       "      <td>-79.293031</td>\n",
       "      <td>Grover Pub and Grub</td>\n",
       "      <td>43.679181</td>\n",
       "      <td>-79.297215</td>\n",
       "      <td>Pub</td>\n",
       "    </tr>\n",
       "    <tr>\n",
       "      <th>3</th>\n",
       "      <td>M4E</td>\n",
       "      <td>East Toronto</td>\n",
       "      <td>The Beaches</td>\n",
       "      <td>43.676357</td>\n",
       "      <td>-79.293031</td>\n",
       "      <td>Upper Beaches</td>\n",
       "      <td>43.680563</td>\n",
       "      <td>-79.292869</td>\n",
       "      <td>Neighborhood</td>\n",
       "    </tr>\n",
       "    <tr>\n",
       "      <th>4</th>\n",
       "      <td>M4K</td>\n",
       "      <td>East Toronto</td>\n",
       "      <td>The Danforth West, Riverdale</td>\n",
       "      <td>43.679557</td>\n",
       "      <td>-79.352188</td>\n",
       "      <td>MenEssentials</td>\n",
       "      <td>43.677820</td>\n",
       "      <td>-79.351265</td>\n",
       "      <td>Cosmetics Shop</td>\n",
       "    </tr>\n",
       "  </tbody>\n",
       "</table>\n",
       "</div>"
      ],
      "text/plain": [
       "  PostalCode       Borough                  Neighborhood  BoroughLatitude  \\\n",
       "0        M4E  East Toronto                   The Beaches        43.676357   \n",
       "1        M4E  East Toronto                   The Beaches        43.676357   \n",
       "2        M4E  East Toronto                   The Beaches        43.676357   \n",
       "3        M4E  East Toronto                   The Beaches        43.676357   \n",
       "4        M4K  East Toronto  The Danforth West, Riverdale        43.679557   \n",
       "\n",
       "   BoroughLongitude                           VenueName  VenueLatitude  \\\n",
       "0        -79.293031                   Glen Manor Ravine      43.676821   \n",
       "1        -79.293031  The Big Carrot Natural Food Market      43.678879   \n",
       "2        -79.293031                 Grover Pub and Grub      43.679181   \n",
       "3        -79.293031                       Upper Beaches      43.680563   \n",
       "4        -79.352188                       MenEssentials      43.677820   \n",
       "\n",
       "   VenueLongitude      VenueCategory  \n",
       "0      -79.293942              Trail  \n",
       "1      -79.297734  Health Food Store  \n",
       "2      -79.297215                Pub  \n",
       "3      -79.292869       Neighborhood  \n",
       "4      -79.351265     Cosmetics Shop  "
      ]
     },
     "execution_count": 76,
     "metadata": {},
     "output_type": "execute_result"
    }
   ],
   "source": [
    "# convert the venues list into a new DataFrame\n",
    "venues_df = pd.DataFrame(venues)\n",
    "\n",
    "# define the column names\n",
    "venues_df.columns = ['PostalCode', 'Borough', 'Neighborhood', 'BoroughLatitude', 'BoroughLongitude', 'VenueName', 'VenueLatitude', 'VenueLongitude', 'VenueCategory']\n",
    "\n",
    "print(venues_df.shape)\n",
    "venues_df.head()"
   ]
  },
  {
   "cell_type": "code",
   "execution_count": null,
   "metadata": {},
   "outputs": [],
   "source": []
  }
 ],
 "metadata": {
  "kernelspec": {
   "display_name": "Python 3",
   "language": "python",
   "name": "python3"
  },
  "language_info": {
   "codemirror_mode": {
    "name": "ipython",
    "version": 3
   },
   "file_extension": ".py",
   "mimetype": "text/x-python",
   "name": "python",
   "nbconvert_exporter": "python",
   "pygments_lexer": "ipython3",
   "version": "3.6.4"
  }
 },
 "nbformat": 4,
 "nbformat_minor": 2
}
